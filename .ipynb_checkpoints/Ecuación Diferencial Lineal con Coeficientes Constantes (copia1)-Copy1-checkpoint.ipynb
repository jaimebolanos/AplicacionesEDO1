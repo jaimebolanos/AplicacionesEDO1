{
 "cells": [
  {
   "cell_type": "markdown",
   "metadata": {
    "collapsed": true
   },
   "source": [
    "# Jaime Bolaños Gallo\n",
    "## ECUACIONES DIFERENCIALES\n",
    "### UNIVERSIDAD LIBRE"
   ]
  },
  {
   "cell_type": "markdown",
   "metadata": {},
   "source": [
    "Resolver la ecuación: $$x''(t)+9x(t)=5 sen(3t)$$"
   ]
  },
  {
   "cell_type": "markdown",
   "metadata": {},
   "source": [
    "# MÉTODO DE VARIACIÓN DE PARÁMETROS"
   ]
  },
  {
   "cell_type": "code",
   "execution_count": 1,
   "metadata": {
    "collapsed": true
   },
   "outputs": [],
   "source": [
    "# PRIMERO IMPORTAREMOS EL PAQUETE Symbols y Function."
   ]
  },
  {
   "cell_type": "code",
   "execution_count": 2,
   "metadata": {},
   "outputs": [],
   "source": [
    "from sympy import symbols, Function\n",
    "import sympy"
   ]
  },
  {
   "cell_type": "raw",
   "metadata": {
    "collapsed": true
   },
   "source": [
    "# DEFINIMOS LAS VARIABLES DEL EJERCICIO"
   ]
  },
  {
   "cell_type": "code",
   "execution_count": 3,
   "metadata": {},
   "outputs": [],
   "source": [
    "a,b,x,y,z,w,t,c1,c2,e=symbols('a b x y z w t c1 c2 e')\n",
    "#definomos lñas funciones\n",
    "f=Function('f')\n",
    "# aun no se han utilizado\n",
    "g=Function('g')(x)\n",
    "\n"
   ]
  },
  {
   "cell_type": "code",
   "execution_count": 4,
   "metadata": {},
   "outputs": [],
   "source": [
    "from sympy import *\n",
    "f1=cos(3*t)\n",
    "f2=sin(3*t)"
   ]
  },
  {
   "cell_type": "markdown",
   "metadata": {},
   "source": [
    "La ecuación de índices para esta ecuación es  $$m^2+9=0$$ "
   ]
  },
  {
   "cell_type": "markdown",
   "metadata": {},
   "source": [
    "La solución homogénea es:$$x_{h}=C_{1}cos(3t)+C_2 sen(3t)$$"
   ]
  },
  {
   "cell_type": "markdown",
   "metadata": {},
   "source": [
    "A partir de esta expresión podemos establecer los valores de $U_{1}$ y $U_{2}$\n",
    "$$U_{1}=cos(3t)$$ y $$U_{2}=sen(3t)$$\n"
   ]
  },
  {
   "cell_type": "code",
   "execution_count": 5,
   "metadata": {
    "collapsed": true
   },
   "outputs": [],
   "source": [
    "# importamos los paquetes para factorizar y multiplicar"
   ]
  },
  {
   "cell_type": "code",
   "execution_count": 6,
   "metadata": {
    "collapsed": true
   },
   "outputs": [],
   "source": [
    "## from sympy import expand"
   ]
  },
  {
   "cell_type": "code",
   "execution_count": 7,
   "metadata": {},
   "outputs": [],
   "source": [
    "## from sympy import  factor"
   ]
  },
  {
   "cell_type": "markdown",
   "metadata": {},
   "source": [
    "###  Proponemos ahora la solución particilar en LATEX: $$x_{p}=U_{1}cos(3t)+U_2 sen(3t)$$\n"
   ]
  },
  {
   "cell_type": "markdown",
   "metadata": {},
   "source": [
    "### y calculamos $W$, $W_1$ y $W_2$"
   ]
  },
  {
   "cell_type": "code",
   "execution_count": 8,
   "metadata": {
    "collapsed": true
   },
   "outputs": [],
   "source": [
    "# importamos el paquete para matrices"
   ]
  },
  {
   "cell_type": "code",
   "execution_count": 9,
   "metadata": {
    "collapsed": true
   },
   "outputs": [],
   "source": [
    "from sympy import Matrix"
   ]
  },
  {
   "cell_type": "code",
   "execution_count": 10,
   "metadata": {
    "collapsed": true
   },
   "outputs": [],
   "source": [
    "# importamos numpy \n",
    "# importamos casi todo de sympy( ya antes debió importarse)"
   ]
  },
  {
   "cell_type": "code",
   "execution_count": 11,
   "metadata": {},
   "outputs": [],
   "source": [
    "import numpy as np\n"
   ]
  },
  {
   "cell_type": "code",
   "execution_count": 12,
   "metadata": {},
   "outputs": [],
   "source": [
    "\n",
    "from sympy.interactive import printing\n",
    "\n",
    "\n",
    "# imprimir con notación matemática.\n",
    "printing.init_printing(use_latex='mathjax') \n",
    "\n",
    "\n"
   ]
  },
  {
   "cell_type": "code",
   "execution_count": 13,
   "metadata": {},
   "outputs": [],
   "source": [
    "#importamos el paquete Derivative,diff y symplify "
   ]
  },
  {
   "cell_type": "code",
   "execution_count": 14,
   "metadata": {
    "collapsed": true
   },
   "outputs": [],
   "source": [
    "from sympy import Derivative, diff, simplify"
   ]
  },
  {
   "cell_type": "code",
   "execution_count": 15,
   "metadata": {
    "collapsed": true
   },
   "outputs": [],
   "source": [
    "# definimmos las derivadas de las funciones ya definidas(sin ejecutarlas)"
   ]
  },
  {
   "cell_type": "code",
   "execution_count": null,
   "metadata": {},
   "outputs": [],
   "source": []
  },
  {
   "cell_type": "code",
   "execution_count": 16,
   "metadata": {},
   "outputs": [
    {
     "data": {
      "text/latex": [
       "$$\\left ( \\frac{d}{d t} \\cos{\\left (3 t \\right )}, \\quad \\frac{d}{d t} \\sin{\\left (3 t \\right )}\\right )$$"
      ],
      "text/plain": [
       "⎛d             d           ⎞\n",
       "⎜──(cos(3⋅t)), ──(sin(3⋅t))⎟\n",
       "⎝dt            dt          ⎠"
      ]
     },
     "execution_count": 16,
     "metadata": {},
     "output_type": "execute_result"
    }
   ],
   "source": [
    "\n",
    "Derivative(f1,t),Derivative(f2,t)\n",
    "\n"
   ]
  },
  {
   "cell_type": "code",
   "execution_count": 17,
   "metadata": {},
   "outputs": [
    {
     "data": {
      "text/latex": [
       "$$\\left ( - 3 \\sin{\\left (3 t \\right )}, \\quad 3 \\cos{\\left (3 t \\right )}\\right )$$"
      ],
      "text/plain": [
       "(-3⋅sin(3⋅t), 3⋅cos(3⋅t))"
      ]
     },
     "execution_count": 17,
     "metadata": {},
     "output_type": "execute_result"
    }
   ],
   "source": [
    "Derivative(f1,t).doit(),Derivative(f2,t).doit()"
   ]
  },
  {
   "cell_type": "code",
   "execution_count": 18,
   "metadata": {
    "collapsed": true
   },
   "outputs": [],
   "source": [
    "# definimmos las derivadas de las funciones ya definidas( ejecutandolas)"
   ]
  },
  {
   "cell_type": "code",
   "execution_count": 19,
   "metadata": {},
   "outputs": [],
   "source": [
    "Wa=Matrix([[f1,f2],[Derivative(f1,t),Derivative(f2,t)]])\n"
   ]
  },
  {
   "cell_type": "markdown",
   "metadata": {},
   "source": [
    "## Simbólicamente tenremos:"
   ]
  },
  {
   "cell_type": "code",
   "execution_count": 20,
   "metadata": {},
   "outputs": [
    {
     "data": {
      "text/latex": [
       "$$\\left[\\begin{matrix}\\cos{\\left (3 t \\right )} & \\sin{\\left (3 t \\right )}\\\\\\frac{d}{d t} \\cos{\\left (3 t \\right )} & \\frac{d}{d t} \\sin{\\left (3 t \\right )}\\end{matrix}\\right]$$"
      ],
      "text/plain": [
       "⎡  cos(3⋅t)      sin(3⋅t)  ⎤\n",
       "⎢                          ⎥\n",
       "⎢d             d           ⎥\n",
       "⎢──(cos(3⋅t))  ──(sin(3⋅t))⎥\n",
       "⎣dt            dt          ⎦"
      ]
     },
     "execution_count": 20,
     "metadata": {},
     "output_type": "execute_result"
    }
   ],
   "source": [
    "Wa"
   ]
  },
  {
   "cell_type": "code",
   "execution_count": 21,
   "metadata": {
    "collapsed": true
   },
   "outputs": [],
   "source": [
    "# las derivadas se ejecutan y se muestra W"
   ]
  },
  {
   "cell_type": "code",
   "execution_count": 22,
   "metadata": {
    "scrolled": true
   },
   "outputs": [],
   "source": [
    "#y realizando las derivadas:"
   ]
  },
  {
   "cell_type": "code",
   "execution_count": 23,
   "metadata": {},
   "outputs": [
    {
     "data": {
      "text/latex": [
       "$$\\left[\\begin{matrix}\\cos{\\left (3 t \\right )} & \\sin{\\left (3 t \\right )}\\\\- 3 \\sin{\\left (3 t \\right )} & 3 \\cos{\\left (3 t \\right )}\\end{matrix}\\right]$$"
      ],
      "text/plain": [
       "⎡ cos(3⋅t)     sin(3⋅t) ⎤\n",
       "⎢                       ⎥\n",
       "⎣-3⋅sin(3⋅t)  3⋅cos(3⋅t)⎦"
      ]
     },
     "execution_count": 23,
     "metadata": {},
     "output_type": "execute_result"
    }
   ],
   "source": [
    "d1=Derivative(f1,t).doit()\n",
    "d2=Derivative(f2,t).doit()\n",
    "Wa=Matrix([[f1,f2],[d1,d2]])\n",
    "Wa"
   ]
  },
  {
   "cell_type": "code",
   "execution_count": 24,
   "metadata": {
    "collapsed": true
   },
   "outputs": [],
   "source": [
    "## y realizando las derivadas:"
   ]
  },
  {
   "cell_type": "code",
   "execution_count": 25,
   "metadata": {},
   "outputs": [],
   "source": [
    "#importamos un paquete para mejorar la presentación y lo ponemos a funcionar\n"
   ]
  },
  {
   "cell_type": "code",
   "execution_count": 26,
   "metadata": {},
   "outputs": [],
   "source": [
    " from sympy import init_printing\n",
    " init_printing() \n",
    "    "
   ]
  },
  {
   "cell_type": "code",
   "execution_count": 27,
   "metadata": {
    "collapsed": true
   },
   "outputs": [],
   "source": [
    "#calculamos el determinante de la matriz Wa"
   ]
  },
  {
   "cell_type": "code",
   "execution_count": 28,
   "metadata": {},
   "outputs": [
    {
     "data": {
      "image/png": "[encoded data removed]",
      "text/latex": [
       "$$3 \\sin^{2}{\\left (3 t \\right )} + 3 \\cos^{2}{\\left (3 t \\right )}$$"
      ],
      "text/plain": [
       "     2             2     \n",
       "3⋅sin (3⋅t) + 3⋅cos (3⋅t)"
      ]
     },
     "execution_count": 28,
     "metadata": {},
     "output_type": "execute_result"
    }
   ],
   "source": [
    "from numpy import *\n",
    "W=det(Wa)\n",
    "W"
   ]
  },
  {
   "cell_type": "code",
   "execution_count": 29,
   "metadata": {},
   "outputs": [
    {
     "data": {
      "image/png": "[encoded data removed]",
      "text/latex": [
       "$$3$$"
      ],
      "text/plain": [
       "3"
      ]
     },
     "execution_count": 29,
     "metadata": {},
     "output_type": "execute_result"
    }
   ],
   "source": [
    "W=simplify(W)\n",
    "W"
   ]
  },
  {
   "cell_type": "code",
   "execution_count": 30,
   "metadata": {
    "collapsed": true
   },
   "outputs": [],
   "source": [
    "# en latex se tendría la siguieten salida:"
   ]
  },
  {
   "cell_type": "markdown",
   "metadata": {},
   "source": [
    "$$W=det \\begin{bmatrix}\n",
    "cos(3t) & sen(3t) \\\\ -3sen(3t)\n",
    " & 3cos(3t)\n",
    "\\end{bmatrix}=3$$"
   ]
  },
  {
   "cell_type": "markdown",
   "metadata": {
    "collapsed": true
   },
   "source": [
    "## De la forma evaluamos W1 y W2"
   ]
  },
  {
   "cell_type": "code",
   "execution_count": 31,
   "metadata": {
    "scrolled": true
   },
   "outputs": [
    {
     "data": {
      "image/png": "[encoded data removed]",
      "text/latex": [
       "$$\\left[\\begin{matrix}0 & \\sin{\\left (3 t \\right )}\\\\5 \\sin{\\left (3 t \\right )} & 3 \\cos{\\left (3 t \\right )}\\end{matrix}\\right]$$"
      ],
      "text/plain": [
       "⎡    0        sin(3⋅t) ⎤\n",
       "⎢                      ⎥\n",
       "⎣5⋅sin(3⋅t)  3⋅cos(3⋅t)⎦"
      ]
     },
     "execution_count": 31,
     "metadata": {},
     "output_type": "execute_result"
    }
   ],
   "source": [
    "\n",
    "W1=Matrix([[0,f2],[5*f2,d2]])\n",
    "W1"
   ]
  },
  {
   "cell_type": "code",
   "execution_count": 32,
   "metadata": {
    "scrolled": true
   },
   "outputs": [
    {
     "data": {
      "image/png": "[encoded data removed]",
      "text/latex": [
       "$$\\left[\\begin{matrix}\\cos{\\left (3 t \\right )} & 0\\\\- 3 \\sin{\\left (3 t \\right )} & 5 \\sin{\\left (3 t \\right )}\\end{matrix}\\right]$$"
      ],
      "text/plain": [
       "⎡ cos(3⋅t)        0     ⎤\n",
       "⎢                       ⎥\n",
       "⎣-3⋅sin(3⋅t)  5⋅sin(3⋅t)⎦"
      ]
     },
     "execution_count": 32,
     "metadata": {},
     "output_type": "execute_result"
    }
   ],
   "source": [
    "W2=Matrix([[f1,0],[d1,5*f2]])\n",
    "W2"
   ]
  },
  {
   "cell_type": "code",
   "execution_count": 33,
   "metadata": {
    "scrolled": true
   },
   "outputs": [
    {
     "data": {
      "image/png": "[encoded data removed]",
      "text/latex": [
       "$$- 5 \\sin^{2}{\\left (3 t \\right )}$$"
      ],
      "text/plain": [
       "      2     \n",
       "-5⋅sin (3⋅t)"
      ]
     },
     "execution_count": 33,
     "metadata": {},
     "output_type": "execute_result"
    }
   ],
   "source": [
    "W1=det(W1)  \n",
    "W2=det(W2) \n",
    "W1\n"
   ]
  },
  {
   "cell_type": "code",
   "execution_count": 34,
   "metadata": {},
   "outputs": [
    {
     "data": {
      "image/png": "[encoded data removed]",
      "text/latex": [
       "$$5 \\sin{\\left (3 t \\right )} \\cos{\\left (3 t \\right )}$$"
      ],
      "text/plain": [
       "5⋅sin(3⋅t)⋅cos(3⋅t)"
      ]
     },
     "execution_count": 34,
     "metadata": {},
     "output_type": "execute_result"
    }
   ],
   "source": [
    "W2"
   ]
  },
  {
   "cell_type": "code",
   "execution_count": 35,
   "metadata": {
    "collapsed": true
   },
   "outputs": [],
   "source": [
    "#importamos dos paquetes para inetgrar"
   ]
  },
  {
   "cell_type": "code",
   "execution_count": 36,
   "metadata": {},
   "outputs": [
    {
     "data": {
      "image/png": "[encoded data removed]",
      "text/latex": [
       "$$\\int - \\frac{5}{3} \\sin^{2}{\\left (3 t \\right )}\\, dt$$"
      ],
      "text/plain": [
       "⌠                 \n",
       "⎮       2         \n",
       "⎮ -5⋅sin (3⋅t)    \n",
       "⎮ ───────────── dt\n",
       "⎮       3         \n",
       "⌡                 "
      ]
     },
     "execution_count": 36,
     "metadata": {},
     "output_type": "execute_result"
    }
   ],
   "source": [
    "from sympy import Integral, integrate\n",
    "# evaluamos W1\n",
    "u1=W1/W\n",
    "u1 = Integral(u1, t)\n",
    "u1"
   ]
  },
  {
   "cell_type": "code",
   "execution_count": 37,
   "metadata": {},
   "outputs": [
    {
     "data": {
      "image/png": "[encoded data removed]",
      "text/latex": [
       "$$- \\frac{5 t}{6} + \\frac{5}{18} \\sin{\\left (3 t \\right )} \\cos{\\left (3 t \\right )}$$"
      ],
      "text/plain": [
       "  5⋅t   5⋅sin(3⋅t)⋅cos(3⋅t)\n",
       "- ─── + ───────────────────\n",
       "   6             18        "
      ]
     },
     "execution_count": 37,
     "metadata": {},
     "output_type": "execute_result"
    }
   ],
   "source": [
    "u1=W1/W\n",
    "u1 = Integral(u1, t).doit()\n",
    "u1"
   ]
  },
  {
   "cell_type": "code",
   "execution_count": 38,
   "metadata": {},
   "outputs": [
    {
     "data": {
      "image/png": "[encoded data removed]",
      "text/latex": [
       "$$\\int \\frac{5}{3} \\sin{\\left (3 t \\right )} \\cos{\\left (3 t \\right )}\\, dt$$"
      ],
      "text/plain": [
       "⌠                       \n",
       "⎮ 5⋅sin(3⋅t)⋅cos(3⋅t)   \n",
       "⎮ ─────────────────── dt\n",
       "⎮          3            \n",
       "⌡                       "
      ]
     },
     "execution_count": 38,
     "metadata": {},
     "output_type": "execute_result"
    }
   ],
   "source": [
    "# evaluamos W1\n",
    "u2=W2/W\n",
    "u2 = Integral(u2, t)\n",
    "u2"
   ]
  },
  {
   "cell_type": "code",
   "execution_count": 39,
   "metadata": {},
   "outputs": [
    {
     "data": {
      "image/png": "[encoded data removed]",
      "text/latex": [
       "$$\\frac{5}{18} \\sin^{2}{\\left (3 t \\right )} - 1$$"
      ],
      "text/plain": [
       "     2         \n",
       "5⋅sin (3⋅t)    \n",
       "─────────── - 1\n",
       "     18        "
      ]
     },
     "execution_count": 39,
     "metadata": {},
     "output_type": "execute_result"
    }
   ],
   "source": [
    "u2=W2/W\n",
    "u2 = Integral(u2, t).doit()\n",
    "u2-1"
   ]
  },
  {
   "cell_type": "markdown",
   "metadata": {},
   "source": [
    "## Esta última integral también es equivalente a $-\\frac{5}{36}cos(6t)$"
   ]
  },
  {
   "cell_type": "markdown",
   "metadata": {},
   "source": [
    "### Construimos ahora $X_{p}$"
   ]
  },
  {
   "cell_type": "markdown",
   "metadata": {},
   "source": [
    "$$X_{p}=U_{1}cos(3t)+U_{2}sen(3t)$$"
   ]
  },
  {
   "cell_type": "code",
   "execution_count": 40,
   "metadata": {},
   "outputs": [],
   "source": [
    "xp=u1*f1+u2*f2\n",
    "xh=c1*f1+c2*f2"
   ]
  },
  {
   "cell_type": "code",
   "execution_count": 41,
   "metadata": {},
   "outputs": [],
   "source": [
    "# Enseguida otra manera de escribir"
   ]
  },
  {
   "cell_type": "code",
   "execution_count": 42,
   "metadata": {},
   "outputs": [
    {
     "name": "stdout",
     "output_type": "stream",
     "text": [
      "xh= c1*cos(3*t) + c2*sin(3*t)\n"
     ]
    }
   ],
   "source": [
    "print (\"xh=\",xh)"
   ]
  },
  {
   "cell_type": "code",
   "execution_count": 43,
   "metadata": {},
   "outputs": [
    {
     "name": "stdout",
     "output_type": "stream",
     "text": [
      "xp= (-5*t/6 + 5*sin(3*t)*cos(3*t)/18)*cos(3*t) + 5*sin(3*t)**3/18\n"
     ]
    }
   ],
   "source": [
    "print (\"xp=\",xp)"
   ]
  },
  {
   "cell_type": "code",
   "execution_count": 44,
   "metadata": {},
   "outputs": [
    {
     "data": {
      "image/png": "[encoded data removed]",
      "text/latex": [
       "$$\\left(- \\frac{5 t}{6} + \\frac{5}{18} \\sin{\\left (3 t \\right )} \\cos{\\left (3 t \\right )}\\right) \\cos{\\left (3 t \\right )} + \\frac{5}{18} \\sin^{3}{\\left (3 t \\right )}$$"
      ],
      "text/plain": [
       "                                              3     \n",
       "⎛  5⋅t   5⋅sin(3⋅t)⋅cos(3⋅t)⎞            5⋅sin (3⋅t)\n",
       "⎜- ─── + ───────────────────⎟⋅cos(3⋅t) + ───────────\n",
       "⎝   6             18        ⎠                 18    "
      ]
     },
     "execution_count": 44,
     "metadata": {},
     "output_type": "execute_result"
    }
   ],
   "source": [
    "xp"
   ]
  },
  {
   "cell_type": "markdown",
   "metadata": {},
   "source": [
    "La solución total de la ED es(LATEX):$$x=C_{1} cos(3t)+C_{2}sen(3t)-\\frac{5}{18}(9t^{2}-sen^{2}(3t))cos(3t)+\\frac{5}{18}sen^{3}(3t)$$"
   ]
  },
  {
   "cell_type": "code",
   "execution_count": 45,
   "metadata": {},
   "outputs": [
    {
     "data": {
      "image/png": "[encoded data removed]",
      "text/latex": [
       "$$c_{1} \\cos{\\left (3 t \\right )} + c_{2} \\sin{\\left (3 t \\right )} + \\left(- \\frac{5 t}{6} + \\frac{5}{18} \\sin{\\left (3 t \\right )} \\cos{\\left (3 t \\right )}\\right) \\cos{\\left (3 t \\right )} + \\frac{5}{18} \\sin^{3}{\\left (3 t \\right )}$$"
      ],
      "text/plain": [
       "                                                                          3   \n",
       "                            ⎛  5⋅t   5⋅sin(3⋅t)⋅cos(3⋅t)⎞            5⋅sin (3⋅\n",
       "c₁⋅cos(3⋅t) + c₂⋅sin(3⋅t) + ⎜- ─── + ───────────────────⎟⋅cos(3⋅t) + ─────────\n",
       "                            ⎝   6             18        ⎠                 18  \n",
       "\n",
       "  \n",
       "t)\n",
       "──\n",
       "  "
      ]
     },
     "execution_count": 45,
     "metadata": {},
     "output_type": "execute_result"
    }
   ],
   "source": [
    "x=xh+xp\n",
    "x"
   ]
  },
  {
   "cell_type": "code",
   "execution_count": 46,
   "metadata": {},
   "outputs": [
    {
     "data": {
      "image/png": "[encoded data removed]",
      "text/latex": [
       "$$\\frac{\\partial}{\\partial t}\\left(c_{1} \\cos{\\left (3 t \\right )} + c_{2} \\sin{\\left (3 t \\right )} + \\left(- \\frac{5 t}{6} + \\frac{5}{18} \\sin{\\left (3 t \\right )} \\cos{\\left (3 t \\right )}\\right) \\cos{\\left (3 t \\right )} + \\frac{5}{18} \\sin^{3}{\\left (3 t \\right )}\\right)$$"
      ],
      "text/plain": [
       "  ⎛                                                                          3\n",
       "∂ ⎜                            ⎛  5⋅t   5⋅sin(3⋅t)⋅cos(3⋅t)⎞            5⋅sin \n",
       "──⎜c₁⋅cos(3⋅t) + c₂⋅sin(3⋅t) + ⎜- ─── + ───────────────────⎟⋅cos(3⋅t) + ──────\n",
       "∂t⎝                            ⎝   6             18        ⎠                 1\n",
       "\n",
       "     ⎞\n",
       "(3⋅t)⎟\n",
       "─────⎟\n",
       "8    ⎠"
      ]
     },
     "execution_count": 46,
     "metadata": {},
     "output_type": "execute_result"
    }
   ],
   "source": [
    "dx=Derivative(x,t)\n",
    "dx"
   ]
  },
  {
   "cell_type": "code",
   "execution_count": 47,
   "metadata": {},
   "outputs": [
    {
     "data": {
      "image/png": "[encoded data removed]",
      "text/latex": [
       "$$- 3 c_{1} \\sin{\\left (3 t \\right )} + 3 c_{2} \\cos{\\left (3 t \\right )} - 3 \\left(- \\frac{5 t}{6} + \\frac{5}{18} \\sin{\\left (3 t \\right )} \\cos{\\left (3 t \\right )}\\right) \\sin{\\left (3 t \\right )} + \\left(- \\frac{5}{6} \\sin^{2}{\\left (3 t \\right )} + \\frac{5}{6} \\cos^{2}{\\left (3 t \\right )} - \\frac{5}{6}\\right) \\cos{\\left (3 t \\right )} + \\frac{5}{2} \\sin^{2}{\\left (3 t \\right )} \\cos{\\left (3 t \\right )}$$"
      ],
      "text/plain": [
       "                                                                            ⎛ \n",
       "                                   ⎛  5⋅t   5⋅sin(3⋅t)⋅cos(3⋅t)⎞            ⎜ \n",
       "-3⋅c₁⋅sin(3⋅t) + 3⋅c₂⋅cos(3⋅t) - 3⋅⎜- ─── + ───────────────────⎟⋅sin(3⋅t) + ⎜-\n",
       "                                   ⎝   6             18        ⎠            ⎝ \n",
       "\n",
       "      2             2         ⎞                 2              \n",
       " 5⋅sin (3⋅t)   5⋅cos (3⋅t)   5⎟            5⋅sin (3⋅t)⋅cos(3⋅t)\n",
       " ─────────── + ─────────── - ─⎟⋅cos(3⋅t) + ────────────────────\n",
       "      6             6        6⎠                     2          "
      ]
     },
     "execution_count": 47,
     "metadata": {},
     "output_type": "execute_result"
    }
   ],
   "source": [
    "dx=Derivative(x,t).doit()\n",
    "dx"
   ]
  },
  {
   "cell_type": "code",
   "execution_count": 48,
   "metadata": {},
   "outputs": [
    {
     "data": {
      "image/png": "[encoded data removed]",
      "text/latex": [
       "$$- 3 c_{1} \\sin{\\left (3 t \\right )} + 3 c_{2} \\cos{\\left (3 t \\right )} + \\frac{5 t}{2} \\sin{\\left (3 t \\right )} + \\frac{5}{6} \\sin^{2}{\\left (3 t \\right )} \\cos{\\left (3 t \\right )} + \\frac{5}{6} \\cos^{3}{\\left (3 t \\right )} - \\frac{5}{6} \\cos{\\left (3 t \\right )}$$"
      ],
      "text/plain": [
       "                                                     2                      3 \n",
       "                                 5⋅t⋅sin(3⋅t)   5⋅sin (3⋅t)⋅cos(3⋅t)   5⋅cos (\n",
       "-3⋅c₁⋅sin(3⋅t) + 3⋅c₂⋅cos(3⋅t) + ──────────── + ──────────────────── + ───────\n",
       "                                      2                  6                  6 \n",
       "\n",
       "                 \n",
       "3⋅t)   5⋅cos(3⋅t)\n",
       "──── - ──────────\n",
       "           6     "
      ]
     },
     "execution_count": 48,
     "metadata": {},
     "output_type": "execute_result"
    }
   ],
   "source": [
    "dx=expand (dx)\n",
    "dx"
   ]
  },
  {
   "cell_type": "code",
   "execution_count": 49,
   "metadata": {},
   "outputs": [
    {
     "data": {
      "image/png": "[encoded data removed]",
      "text/latex": [
       "$$c_{1}$$"
      ],
      "text/plain": [
       "c₁"
      ]
     },
     "execution_count": 49,
     "metadata": {},
     "output_type": "execute_result"
    }
   ],
   "source": [
    "x.subs(t,0)\n",
    "\n"
   ]
  },
  {
   "cell_type": "code",
   "execution_count": 50,
   "metadata": {},
   "outputs": [
    {
     "data": {
      "image/png": "[encoded data removed]",
      "text/latex": [
       "$$3 c_{2}$$"
      ],
      "text/plain": [
       "3⋅c₂"
      ]
     },
     "execution_count": 50,
     "metadata": {},
     "output_type": "execute_result"
    }
   ],
   "source": [
    "dx.subs(t,0)"
   ]
  },
  {
   "cell_type": "code",
   "execution_count": 51,
   "metadata": {},
   "outputs": [
    {
     "data": {
      "image/png": "[encoded data removed]",
      "text/latex": [
       "$$\\left [ \\left \\{ c_{1} : 2\\right \\}\\right ]$$"
      ],
      "text/plain": [
       "[{c₁: 2}]"
      ]
     },
     "execution_count": 51,
     "metadata": {},
     "output_type": "execute_result"
    }
   ],
   "source": [
    "solve(x.subs(t,0)-2,dx.subs(t,0),c1,c2)"
   ]
  },
  {
   "cell_type": "code",
   "execution_count": 52,
   "metadata": {
    "collapsed": true
   },
   "outputs": [],
   "source": [
    "# por lo tanto la constante c1 vale 2 y la constante c2 vale 0"
   ]
  },
  {
   "cell_type": "code",
   "execution_count": 53,
   "metadata": {},
   "outputs": [
    {
     "data": {
      "image/png": "[encoded data removed]",
      "text/latex": [
       "$$\\left [ \\left \\{ a : 2 b + 5\\right \\}\\right ]$$"
      ],
      "text/plain": [
       "[{a: 2⋅b + 5}]"
      ]
     },
     "execution_count": 53,
     "metadata": {},
     "output_type": "execute_result"
    }
   ],
   "source": [
    "solve(a - 2*b - 5, a  + b-15,a,b)"
   ]
  },
  {
   "cell_type": "markdown",
   "metadata": {},
   "source": [
    "La anterior expresón nos permite concluir que el concluir que: el conjunto soluciòn es (2b+5,b)"
   ]
  },
  {
   "cell_type": "code",
   "execution_count": 54,
   "metadata": {},
   "outputs": [
    {
     "data": {
      "image/png": "[encoded data removed]",
      "text/latex": [
       "$$\\left(- \\frac{5 t}{6} + \\frac{5}{18} \\sin{\\left (3 t \\right )} \\cos{\\left (3 t \\right )}\\right) \\cos{\\left (3 t \\right )} + \\frac{5}{18} \\sin^{3}{\\left (3 t \\right )} + 2 \\cos{\\left (3 t \\right )}$$"
      ],
      "text/plain": [
       "                                              3                  \n",
       "⎛  5⋅t   5⋅sin(3⋅t)⋅cos(3⋅t)⎞            5⋅sin (3⋅t)             \n",
       "⎜- ─── + ───────────────────⎟⋅cos(3⋅t) + ─────────── + 2⋅cos(3⋅t)\n",
       "⎝   6             18        ⎠                 18                 "
      ]
     },
     "execution_count": 54,
     "metadata": {},
     "output_type": "execute_result"
    }
   ],
   "source": [
    "g=x.subs([(c1,2),(c2,0)])\n",
    "g\n"
   ]
  },
  {
   "cell_type": "code",
   "execution_count": 55,
   "metadata": {},
   "outputs": [],
   "source": [
    "from sympy.plotting import plot"
   ]
  },
  {
   "cell_type": "code",
   "execution_count": 56,
   "metadata": {},
   "outputs": [
    {
     "data": {
      "image/png": "[encoded data removed]",
      "text/plain": [
       "<matplotlib.figure.Figure at 0xae239d2c>"
      ]
     },
     "metadata": {},
     "output_type": "display_data"
    },
    {
     "data": {
      "text/plain": [
       "<sympy.plotting.plot.Plot at 0xae23906c>"
      ]
     },
     "execution_count": 56,
     "metadata": {},
     "output_type": "execute_result"
    }
   ],
   "source": [
    "plot(g)"
   ]
  },
  {
   "cell_type": "code",
   "execution_count": 57,
   "metadata": {},
   "outputs": [
    {
     "data": {
      "image/png": "[encoded data removed]",
      "text/plain": [
       "<matplotlib.figure.Figure at 0xabe4c9ec>"
      ]
     },
     "metadata": {},
     "output_type": "display_data"
    },
    {
     "data": {
      "text/plain": [
       "<sympy.plotting.plot.Plot at 0xae23932c>"
      ]
     },
     "execution_count": 57,
     "metadata": {},
     "output_type": "execute_result"
    }
   ],
   "source": [
    "plot(2*f1)"
   ]
  },
  {
   "cell_type": "code",
   "execution_count": null,
   "metadata": {
    "collapsed": true
   },
   "outputs": [],
   "source": []
  }
 ],
 "metadata": {
  "kernelspec": {
   "display_name": "Python 3",
   "language": "python",
   "name": "python3"
  },
  "language_info": {
   "codemirror_mode": {
    "name": "ipython",
    "version": 3
   },
   "file_extension": ".py",
   "mimetype": "text/x-python",
   "name": "python",
   "nbconvert_exporter": "python",
   "pygments_lexer": "ipython3",
   "version": "3.6.1"
  }
 },
 "nbformat": 4,
 "nbformat_minor": 2
}
