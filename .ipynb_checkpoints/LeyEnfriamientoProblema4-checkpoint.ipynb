{
 "cells": [
  {
   "cell_type": "markdown",
   "metadata": {},
   "source": [
    "\n",
    "# APLICACIONES DE LA ECUACIONES \n",
    "# DIFERENCIALES  con PYTHON\n",
    "## Primer Orden\n",
    "## UNIVERSIDAD LIBRE\n",
    "### _Jaime Bolaños Gallo_"
   ]
  },
  {
   "cell_type": "markdown",
   "metadata": {},
   "source": [
    "<p style=\"text-align: center;\"> <span style=\"color:red\">LEY DEL ENFRIAMIENTO DE NEWTON</span></p>\n",
    "\n",
    "<p style=\"text-align: justify;\"> <span style=\"color:green\">Problema 4</span></p>\n",
    " \n",
    "La solución del modelo de calentamiento para el problema 3 está dado por la ecuación\n",
    "\n",
    "$$T=-50 \\cdot e^{-0.044629 \\cdot t}+100$$\n",
    "\n",
    "En donde T es la temperatura en ${}^o F$ y $t$ es el tiempo en minutos.\n",
    "\n",
    "Construya\n",
    "\n",
    "a)  una tabla de valores T vs t para valores $0\\leqslant t \\leqslant 30$\n",
    "\n",
    "b) una gráfica T vs t a partir de la tabla anterior"
   ]
  },
  {
   "cell_type": "markdown",
   "metadata": {},
   "source": [
    "<p style=\"text-align: justify;\"> <span style=\"color:blue\">Solución con PYTHON:</span></p> \n"
   ]
  },
  {
   "cell_type": "markdown",
   "metadata": {
    "collapsed": true
   },
   "source": [
    " a) A partir de la solución elaboramos la siguiente tabla\n",
    "![hhhhh](imagenes\\Tvst.png)\n"
   ]
  },
  {
   "cell_type": "code",
   "execution_count": 1,
   "metadata": {},
   "outputs": [
    {
     "data": {
      "text/plain": [
       "[<matplotlib.lines.Line2D at 0x7f141a089e10>]"
      ]
     },
     "execution_count": 1,
     "metadata": {},
     "output_type": "execute_result"
    }
   ],
   "source": [
    "import numpy as np\n",
    "import matplotlib \n",
    "import matplotlib.pyplot as plt\n",
    "# hacemos dos listas\n",
    "listat=[0,3,69,12,15,18,21,24,27,30]\n",
    "listaT=[50,56.27,61.75,66.54,70.73,74.40,77.61,80.41,82.87,85.02,86.89]\n",
    "plt.plot(listaT)"
   ]
  },
  {
   "cell_type": "code",
   "execution_count": 2,
   "metadata": {},
   "outputs": [
    {
     "data": {
      "image/png": "[encoded data removed]",
      "text/plain": [
       "<matplotlib.figure.Figure at 0x7f143d5cf9b0>"
      ]
     },
     "metadata": {},
     "output_type": "display_data"
    }
   ],
   "source": [
    "import numpy as np\n",
    "import matplotlib \n",
    "import matplotlib.pyplot as plt\n",
    "plt.ion()\n",
    "plt.plot(listaT, marker='x', linestyle=':', color='r', label = \"Perfil Tv vs t\") \n",
    "plt.legend(loc=\"lower right\")\n",
    "indice = np.arange(10)\n",
    "plt.xticks(indice, (\"0\",\"3\", \"6\", \"9\", \"12\", \"15\", \"18\", \"21\", \"24\",\"27\",\"30\") ) \n",
    "plt.title('Curva de calentamiento T vs t')\n",
    "plt.axis([0,10,0,120])\n",
    "plt.xlabel('tiempo en minutos'), plt.ylabel('Temperatura en ${}^0 F$')\n",
    "plt.grid(True) \n",
    "plt.show()\n",
    "plt.ioff()"
   ]
  },
  {
   "cell_type": "markdown",
   "metadata": {},
   "source": [
    "<script>\n",
    "  $(document).ready(function(){\n",
    "    $('div.prompt').hide();\n",
    "    $('div.back-to-top').hide();\n",
    "    $('nav#menubar').hide();\n",
    "    $('.breadcrumb').hide();\n",
    "    $('.hidden-print').hide();\n",
    "  });\n",
    "</script>\n",
    "\n",
    "<footer id=\"attribution\" style=\"float:right; color:#999; background:#fff;\">\n",
    "UNIVERSIDAD LIBRE // Núcleo Común//\n",
    "\n",
    "Jaime Bolaños Gallo. Aplicaciones de las Ecuaciones Diferenciales Ordinarias.\n",
    "\n",
    "\n",
    "</footer>"
   ]
  }
 ],
 "metadata": {
  "kernelspec": {
   "display_name": "Python 3",
   "language": "python",
   "name": "python3"
  },
  "language_info": {
   "codemirror_mode": {
    "name": "ipython",
    "version": 3
   },
   "file_extension": ".py",
   "mimetype": "text/x-python",
   "name": "python",
   "nbconvert_exporter": "python",
   "pygments_lexer": "ipython3",
   "version": "3.6.1"
  }
 },
 "nbformat": 4,
 "nbformat_minor": 2
}
