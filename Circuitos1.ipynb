{
 "cells": [
  {
   "cell_type": "markdown",
   "metadata": {},
   "source": [
    "\n",
    "# APLICACIONES DE LA ECUACIONES \n",
    "# DIFERENCIALES  con PYTHON\n",
    "## Primer Orden\n",
    "## UNIVERSIDAD LIBRE\n",
    "### Jaime Bolaños Gallo"
   ]
  },
  {
   "cell_type": "markdown",
   "metadata": {},
   "source": [
    "<p style=\"text-align: center;\"> <span style=\"color:red\">CIRCUITOS ELÉCTRICOS</span></p>\n",
    "\n",
    "<p style=\"text-align: justify;\"> <span style=\"color:green\">Problema 1</span></p>\n",
    " \n",
    "SOLUCIÓN DEL MODELO. Considere la siguiente la cuál contiene un resumen de los diferentes elementos que es posible encontrar en un circuito eléctrico sencillo:"
   ]
  },
  {
   "cell_type": "markdown",
   "metadata": {},
   "source": [
    "![hhhhh](images\\dispositivos.png)\n",
    "<h4>Además tener en cuenta que la corriente es $i=\\frac{dq}{dt}$ en amperios, $q$   es la carga en coulombios      </h4>\n"
   ]
  },
  {
   "cell_type": "markdown",
   "metadata": {},
   "source": [
    "halle la ecuación diferencial que modela un circuito:\n",
    "\n",
    "a) $ RL$\n",
    "\n",
    "b) $RC$\n",
    "\n",
    "c) $LC$"
   ]
  },
  {
   "cell_type": "markdown",
   "metadata": {},
   "source": [
    "<p style=\"text-align: justify;\"> <span style=\"color:blue\">Solución:</span></p>\n",
    "\n",
    "a) Un balance de enrgía sobre los componentes del circuito nos lleva a:\n",
    "\n",
    "$$V_L+V_R=V_{fuente}$$\n",
    "\n",
    "Y tomando os valores de cada una de las ciadas de voltaje de la tabla anmterior tenemos:\n",
    "\n",
    "$$L~ \\frac{di}{dt}+R ~i= V_{fuente}$$\n",
    "\n",
    "Reordenando se tiene la ecuación diferencial:\n",
    "\n",
    "$$\\frac{di}{dt}+\\frac{R}{L} ~i= \\frac{V_{fuente}}{L}$$\n",
    "\n",
    "\n",
    "Que es una ecuación diferencial de orden 1 en donde la variable independiente es el tiempo $t$ y la variable dependiente es la corriente $i$\n",
    "\n",
    "b) Análogamente un balance de energía nos lleva a:\n",
    "\n",
    "$$V_R+V_C=V_{fuente}$$\n",
    "\n",
    "$$R~ i+\\frac{1}{C}~q = V_{fuente}$$\n",
    "\n",
    "\n",
    "$$R~ \\frac{dq}{dt}+\\frac{1}{C}~q = V_{fuente}$$\n",
    "\n",
    "\n",
    "$$ \\frac{dq}{dt}+\\frac{1}{R~C}~q = \\frac{V_{fuente}}{R}$$\n",
    "\n",
    "Que es una ecuación diferencial de orden 1 en donde la variable independiente es el tiempo $t$ y la variable dependiente es la corriente $q$\n",
    "\n",
    "c) $$V_L+V_C=V_{fuente}$$\n",
    "\n",
    "\n",
    "$$ L~ \\frac{di}{dt}+\\frac{1}{C}~q = V_{fuente}$$\n",
    "\n",
    "$$ \\frac{di}{dt}+\\frac{1}{L~C}~q = \\frac{V_{fuente}}{L}$$\n",
    "\n",
    "\n",
    "$$ \\frac{d^{2}q}{dt^2}+\\frac{1}{L~C}~q = \\frac{V_{fuente}}{L}$$\n",
    "\n",
    "Siendo ésta última ecuación de orden 2 con variable independiente $t$ y variable dependiente $q$.\n"
   ]
  },
  {
   "cell_type": "markdown",
   "metadata": {},
   "source": [
    "<script>\n",
    "  $(document).ready(function(){\n",
    "    $('div.prompt').hide();\n",
    "    $('div.back-to-top').hide();\n",
    "    $('nav#menubar').hide();\n",
    "    $('.breadcrumb').hide();\n",
    "    $('.hidden-print').hide();\n",
    "  });\n",
    "</script>\n",
    "\n",
    "<footer id=\"attribution\" style=\"float:right; color:#999; background:#fff;\">\n",
    "UNIVERSIDAD LIBRE // Núcleo Común//\n",
    "\n",
    "Jaime Bolaños Gallo. Aplicaciones de las Ecuaciones Diferenciales Ordinarias.\n",
    "\n",
    "\n",
    "</footer>"
   ]
  },
  {
   "cell_type": "code",
   "execution_count": null,
   "metadata": {
    "collapsed": true
   },
   "outputs": [],
   "source": []
  }
 ],
 "metadata": {
  "hide_input": false,
  "kernelspec": {
   "display_name": "Python 3",
   "language": "python",
   "name": "python3"
  },
  "language_info": {
   "codemirror_mode": {
    "name": "ipython",
    "version": 3
   },
   "file_extension": ".py",
   "mimetype": "text/x-python",
   "name": "python",
   "nbconvert_exporter": "python",
   "pygments_lexer": "ipython3",
   "version": "3.7.1"
  },
  "latex_envs": {
   "LaTeX_envs_menu_present": true,
   "autoclose": false,
   "autocomplete": true,
   "bibliofile": "biblio.bib",
   "cite_by": "apalike",
   "current_citInitial": 1,
   "eqLabelWithNumbers": true,
   "eqNumInitial": 1,
   "hotkeys": {
    "equation": "Ctrl-E",
    "itemize": "Ctrl-I"
   },
   "labels_anchors": false,
   "latex_user_defs": false,
   "report_style_numbering": false,
   "user_envs_cfg": false
  },
  "toc": {
   "base_numbering": 1,
   "nav_menu": {},
   "number_sections": true,
   "sideBar": true,
   "skip_h1_title": false,
   "title_cell": "Table of Contents",
   "title_sidebar": "Contents",
   "toc_cell": false,
   "toc_position": {},
   "toc_section_display": true,
   "toc_window_display": false
  }
 },
 "nbformat": 4,
 "nbformat_minor": 2
}
