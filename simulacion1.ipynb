{
 "cells": [
  {
   "cell_type": "markdown",
   "metadata": {},
   "source": [
    "<p style=\"text-align: center;\"> <span style=\"color:red\">SIMULACIÓN DE UN TANQUE DE DILUCIÓN</span></p>\n",
    "\n",
    "<p style=\"text-align: justify;\"> <span style=\"color:green\">Problema 1. Situación:\n",
    " \n",
    " Un tanque con capacidad de  $v_T$ litros contiene inicialmente  $m_0 ~~g$ de sal en un volumen de $v_0$ litros de solución. La solución se mantiene bien mezclada y comienza a entrar una corriente con una concentración de $c_1 ~~ g$ a una  velocidad de $\\dot{v}_1~~ \\frac{lt}{min}$ y la mezcla sale del tanque a  $\\dot{v}_2 ~~ \\frac{lt}{min}$. Utilice las dos aplicaciones que se muestran a continuación para comparar resultados de un tanque de dilución con diferentes parámetros."
   ]
  },
  {
   "cell_type": "markdown",
   "metadata": {},
   "source": [
    "# Con un widget de python"
   ]
  },
  {
   "cell_type": "code",
   "execution_count": 12,
   "metadata": {
    "collapsed": true
   },
   "outputs": [],
   "source": [
    "from __future__ import print_function\n",
    "from ipywidgets import interact, interactive, fixed, interact_manual\n",
    "import ipywidgets as widgets"
   ]
  },
  {
   "cell_type": "markdown",
   "metadata": {},
   "source": [
    "<script src=\"https://unpkg.com/@jupyter-widgets/html-manager@*/dist/embed.js\"></script>\n",
    "<script type=\"application/vnd.jupyter.widget-state+json\">\n",
    "{\n",
    "    \"version_major\": 2,\n",
    "    \"version_minor\": 0,\n",
    "    \"state\": {\n",
    "        \"8d30f29d590b49b381d7ab885d20312c\": {\n",
    "            \"model_name\": \"LayoutModel\",\n",
    "            \"model_module\": \"@jupyter-widgets/base\",\n",
    "            \"model_module_version\": \"1.0.0\",\n",
    "            \"state\": {}\n",
    "        },\n",
    "        \"5fb6dab9f10448bc951a379968597722\": {\n",
    "            \"model_name\": \"SliderStyleModel\",\n",
    "            \"model_module\": \"@jupyter-widgets/controls\",\n",
    "            \"model_module_version\": \"1.0.0\",\n",
    "            \"state\": {\n",
    "                \"description_width\": \"\"\n",
    "            }\n",
    "        },\n",
    "        \"4f6df8ae1dca4a3cbfac130d963e2b44\": {\n",
    "            \"model_name\": \"IntSliderModel\",\n",
    "            \"model_module\": \"@jupyter-widgets/controls\",\n",
    "            \"model_module_version\": \"1.0.0\",\n",
    "            \"state\": {\n",
    "                \"style\": \"IPY_MODEL_5fb6dab9f10448bc951a379968597722\",\n",
    "                \"description\": \"v1\",\n",
    "                \"max\": 20,\n",
    "                \"value\": 9,\n",
    "                \"min\": 1,\n",
    "                \"layout\": \"IPY_MODEL_8d30f29d590b49b381d7ab885d20312c\"\n",
    "            }\n",
    "        },\n",
    "        \"cf25465d1dd142c4a30395661f8c418d\": {\n",
    "            \"model_name\": \"LayoutModel\",\n",
    "            \"model_module\": \"@jupyter-widgets/base\",\n",
    "            \"model_module_version\": \"1.0.0\",\n",
    "            \"state\": {}\n",
    "        },\n",
    "        \"44d00b06443e4f9691f5c5660fd4ce66\": {\n",
    "            \"model_name\": \"SliderStyleModel\",\n",
    "            \"model_module\": \"@jupyter-widgets/controls\",\n",
    "            \"model_module_version\": \"1.0.0\",\n",
    "            \"state\": {\n",
    "                \"description_width\": \"\"\n",
    "            }\n",
    "        },\n",
    "        \"f82ee25c15b342eebb6a746e01ad03e3\": {\n",
    "            \"model_name\": \"IntSliderModel\",\n",
    "            \"model_module\": \"@jupyter-widgets/controls\",\n",
    "            \"model_module_version\": \"1.0.0\",\n",
    "            \"state\": {\n",
    "                \"style\": \"IPY_MODEL_44d00b06443e4f9691f5c5660fd4ce66\",\n",
    "                \"description\": \"v2\",\n",
    "                \"max\": 20,\n",
    "                \"value\": 7,\n",
    "                \"min\": 1,\n",
    "                \"layout\": \"IPY_MODEL_cf25465d1dd142c4a30395661f8c418d\"\n",
    "            }\n",
    "        },\n",
    "        \"10acec16ec2d4c2c85dacab19d38bed2\": {\n",
    "            \"model_name\": \"LayoutModel\",\n",
    "            \"model_module\": \"@jupyter-widgets/base\",\n",
    "            \"model_module_version\": \"1.0.0\",\n",
    "            \"state\": {}\n",
    "        },\n",
    "        \"22d4dfed1ae947db9b532f54861c67a4\": {\n",
    "            \"model_name\": \"SliderStyleModel\",\n",
    "            \"model_module\": \"@jupyter-widgets/controls\",\n",
    "            \"model_module_version\": \"1.0.0\",\n",
    "            \"state\": {\n",
    "                \"description_width\": \"\"\n",
    "            }\n",
    "        },\n",
    "        \"6feb0a6f2b314e74874a98aabe5501ab\": {\n",
    "            \"model_name\": \"IntSliderModel\",\n",
    "            \"model_module\": \"@jupyter-widgets/controls\",\n",
    "            \"model_module_version\": \"1.0.0\",\n",
    "            \"state\": {\n",
    "                \"style\": \"IPY_MODEL_22d4dfed1ae947db9b532f54861c67a4\",\n",
    "                \"description\": \"c1\",\n",
    "                \"max\": 20,\n",
    "                \"value\": 10,\n",
    "                \"min\": 1,\n",
    "                \"layout\": \"IPY_MODEL_10acec16ec2d4c2c85dacab19d38bed2\"\n",
    "            }\n",
    "        },\n",
    "        \"0818635035514f38b7af7c000ccc97a1\": {\n",
    "            \"model_name\": \"LayoutModel\",\n",
    "            \"model_module\": \"@jupyter-widgets/base\",\n",
    "            \"model_module_version\": \"1.0.0\",\n",
    "            \"state\": {}\n",
    "        },\n",
    "        \"3fcdf812cc5f4f1e8e9eec50ce6cf475\": {\n",
    "            \"model_name\": \"SliderStyleModel\",\n",
    "            \"model_module\": \"@jupyter-widgets/controls\",\n",
    "            \"model_module_version\": \"1.0.0\",\n",
    "            \"state\": {\n",
    "                \"description_width\": \"\"\n",
    "            }\n",
    "        },\n",
    "        \"8d9ca795fc96444a8d17d0494037e873\": {\n",
    "            \"model_name\": \"IntSliderModel\",\n",
    "            \"model_module\": \"@jupyter-widgets/controls\",\n",
    "            \"model_module_version\": \"1.0.0\",\n",
    "            \"state\": {\n",
    "                \"style\": \"IPY_MODEL_3fcdf812cc5f4f1e8e9eec50ce6cf475\",\n",
    "                \"description\": \"m0\",\n",
    "                \"max\": 700,\n",
    "                \"value\": 319,\n",
    "                \"min\": 1,\n",
    "                \"layout\": \"IPY_MODEL_0818635035514f38b7af7c000ccc97a1\"\n",
    "            }\n",
    "        },\n",
    "        \"5047d8276e57486ab72f75454877b676\": {\n",
    "            \"model_name\": \"LayoutModel\",\n",
    "            \"model_module\": \"@jupyter-widgets/base\",\n",
    "            \"model_module_version\": \"1.0.0\",\n",
    "            \"state\": {}\n",
    "        },\n",
    "        \"8398b424144e4b4986131f44f15d5e2e\": {\n",
    "            \"model_name\": \"SliderStyleModel\",\n",
    "            \"model_module\": \"@jupyter-widgets/controls\",\n",
    "            \"model_module_version\": \"1.0.0\",\n",
    "            \"state\": {\n",
    "                \"description_width\": \"\"\n",
    "            }\n",
    "        },\n",
    "        \"fb7101959c8542798d99859df7b81892\": {\n",
    "            \"model_name\": \"IntSliderModel\",\n",
    "            \"model_module\": \"@jupyter-widgets/controls\",\n",
    "            \"model_module_version\": \"1.0.0\",\n",
    "            \"state\": {\n",
    "                \"style\": \"IPY_MODEL_8398b424144e4b4986131f44f15d5e2e\",\n",
    "                \"description\": \"v0\",\n",
    "                \"max\": 25,\n",
    "                \"value\": 11,\n",
    "                \"min\": 1,\n",
    "                \"layout\": \"IPY_MODEL_5047d8276e57486ab72f75454877b676\"\n",
    "            }\n",
    "        },\n",
    "        \"027c5b63d5bc474aa78a8984009dfc4d\": {\n",
    "            \"model_name\": \"LayoutModel\",\n",
    "            \"model_module\": \"@jupyter-widgets/base\",\n",
    "            \"model_module_version\": \"1.0.0\",\n",
    "            \"state\": {}\n",
    "        },\n",
    "        \"3e75ade518464fbbaf04fc0802f46e9d\": {\n",
    "            \"model_name\": \"VBoxModel\",\n",
    "            \"model_module\": \"@jupyter-widgets/controls\",\n",
    "            \"model_module_version\": \"1.0.0\",\n",
    "            \"state\": {\n",
    "                \"_dom_classes\": [\n",
    "                    \"widget-interact\"\n",
    "                ],\n",
    "                \"layout\": \"IPY_MODEL_027c5b63d5bc474aa78a8984009dfc4d\"\n",
    "            }\n",
    "        }\n",
    "    }\n",
    "}\n",
    "</script>\n",
    "<script type=\"application/vnd.jupyter.widget-view+json\">\n",
    "{\n",
    "    \"model_id\": \"4f6df8ae1dca4a3cbfac130d963e2b44\",\n",
    "    \"version_minor\": 0,\n",
    "    \"version_major\": 2\n",
    "}\n",
    "</script>\n",
    "\n",
    "<script type=\"application/vnd.jupyter.widget-view+json\">\n",
    "{\n",
    "    \"model_id\": \"f82ee25c15b342eebb6a746e01ad03e3\",\n",
    "    \"version_minor\": 0,\n",
    "    \"version_major\": 2\n",
    "}\n",
    "</script>\n",
    "\n",
    "<script type=\"application/vnd.jupyter.widget-view+json\">\n",
    "{\n",
    "    \"model_id\": \"6feb0a6f2b314e74874a98aabe5501ab\",\n",
    "    \"version_minor\": 0,\n",
    "    \"version_major\": 2\n",
    "}\n",
    "</script>\n",
    "\n",
    "<script type=\"application/vnd.jupyter.widget-view+json\">\n",
    "{\n",
    "    \"model_id\": \"8d9ca795fc96444a8d17d0494037e873\",\n",
    "    \"version_minor\": 0,\n",
    "    \"version_major\": 2\n",
    "}\n",
    "</script>\n",
    "\n",
    "<script type=\"application/vnd.jupyter.widget-view+json\">\n",
    "{\n",
    "    \"model_id\": \"fb7101959c8542798d99859df7b81892\",\n",
    "    \"version_minor\": 0,\n",
    "    \"version_major\": 2\n",
    "}\n",
    "</script>"
   ]
  },
  {
   "cell_type": "code",
   "execution_count": 13,
   "metadata": {
    "collapsed": true
   },
   "outputs": [],
   "source": [
    "%matplotlib inline\n",
    "from matplotlib import pyplot as plt\n",
    "import numpy as np"
   ]
  },
  {
   "cell_type": "code",
   "execution_count": 14,
   "metadata": {
    "collapsed": true
   },
   "outputs": [],
   "source": [
    "from IPython.html.widgets import interact"
   ]
  },
  {
   "cell_type": "code",
   "execution_count": 15,
   "metadata": {
    "collapsed": true
   },
   "outputs": [],
   "source": [
    "def tanque(c1,v1,v2,v0,m0):\n",
    "    k=(m0-c1*v0)*v0**(v2/(v1-v2))\n",
    "    t=np.linspace(0,15,200)\n",
    "    m=c1*(v0+(v1-v2)*t)+k/(v0+(v1-v2)*t)**(v2/(v1-v2))\n",
    "    plt.ylim(300,700)\n",
    "    plt.title(u'Masa en el tanque para diferentes tiempos')\n",
    "   \n",
    "    plt.grid()\n",
    "    plt.plot(t,m,color='r')\n",
    "    plt.show()"
   ]
  },
  {
   "cell_type": "code",
   "execution_count": 16,
   "metadata": {},
   "outputs": [
    {
     "data": {
      "application/vnd.jupyter.widget-view+json": {
       "model_id": "edaa4b7bc5414d01bbb05a74a7cbb7e5"
      }
     },
     "metadata": {},
     "output_type": "display_data"
    },
    {
     "data": {
      "text/plain": [
       "<function __main__.tanque>"
      ]
     },
     "execution_count": 16,
     "metadata": {},
     "output_type": "execute_result"
    }
   ],
   "source": [
    "interact(tanque,c1=(0,10),v1=(7,11),v2=(5,7),v0=(10,40),m0=(300,700))"
   ]
  },
  {
   "cell_type": "markdown",
   "metadata": {},
   "source": [
    "# Con un widget de Descartes"
   ]
  },
  {
   "cell_type": "code",
   "execution_count": 22,
   "metadata": {},
   "outputs": [
    {
     "data": {
      "text/html": [
       "<iframe src=applets/simula.html width=900 height=600></iframe>"
      ],
      "text/plain": [
       "<IPython.core.display.HTML object>"
      ]
     },
     "execution_count": 22,
     "metadata": {},
     "output_type": "execute_result"
    }
   ],
   "source": [
    "from IPython.display import HTML\n",
    "HTML('<iframe src=applets/simula.html width=900 height=600></iframe>')\n"
   ]
  },
  {
   "cell_type": "code",
   "execution_count": null,
   "metadata": {
    "collapsed": true
   },
   "outputs": [],
   "source": []
  }
 ],
 "metadata": {
  "kernelspec": {
   "display_name": "Python 3",
   "language": "python",
   "name": "python3"
  },
  "language_info": {
   "codemirror_mode": {
    "name": "ipython",
    "version": 3
   },
   "file_extension": ".py",
   "mimetype": "text/x-python",
   "name": "python",
   "nbconvert_exporter": "python",
   "pygments_lexer": "ipython3",
   "version": "3.6.1"
  }
 },
 "nbformat": 4,
 "nbformat_minor": 2
}
